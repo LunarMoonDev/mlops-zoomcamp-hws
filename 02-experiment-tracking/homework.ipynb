{
 "cells": [
  {
   "cell_type": "markdown",
   "metadata": {},
   "source": [
    "## Homework\n",
    "\n",
    "The goal of this homework is to get familiar with MLflow, the tool for experiment tracking and model management."
   ]
  },
  {
   "cell_type": "markdown",
   "metadata": {},
   "source": [
    "### Q1. Install MLFlow\n",
    "\n",
    "To get started with MLflow you'll need to install the MLflow Python package.\n",
    "\n",
    "For this we recommend creating a separate Python environment, for example, you can use conda environments, and then install the package there with pip or conda.\n",
    "\n",
    "Once you installed the package, run the command mlflow --version and check the output.\n",
    "\n",
    "What's the version that you have?\n",
    "\n",
    "Ans: **2.17.0**"
   ]
  },
  {
   "cell_type": "code",
   "execution_count": 9,
   "metadata": {},
   "outputs": [
    {
     "name": "stdout",
     "output_type": "stream",
     "text": [
      "mlflow, version 2.17.0\n"
     ]
    }
   ],
   "source": [
    "!mlflow --version"
   ]
  },
  {
   "cell_type": "markdown",
   "metadata": {},
   "source": [
    "### Q2. Download and preprocess the data\n",
    "\n",
    "We'll use the Green Taxi Trip Records dataset to predict the duration of each trip.\n",
    "\n",
    "Download the data for January, February and March 2023 in parquet format from here.\n",
    "\n",
    "Use the script preprocess_data.py located in the folder homework to preprocess the data.\n",
    "\n",
    "The script will:\n",
    "\n",
    "- load the data from the folder <TAXI_DATA_FOLDER> (the folder where you have downloaded the data),\n",
    "- fit a DictVectorizer on the training set (January 2023 data),\n",
    "- save the preprocessed datasets and the DictVectorizer to disk.\n",
    "\n",
    "Your task is to download the datasets and then execute this command:\n",
    "\n",
    "```python\n",
    "python preprocess_data.py --raw_data_path <TAXI_DATA_FOLDER> --dest_path ./output\n",
    "```\n",
    "\n",
    "Tip: go to `02-experiment-tracking/homework/` folder before executing the command and change the value of `<TAXI_DATA_FOLDER>` to the location where you saved the data.\n",
    "\n",
    "How many files were saved to OUTPUT_FOLDER?\n",
    "\n",
    "Ans: **4**"
   ]
  },
  {
   "cell_type": "code",
   "execution_count": 10,
   "metadata": {},
   "outputs": [],
   "source": [
    "import pandas as pd"
   ]
  },
  {
   "cell_type": "code",
   "execution_count": 11,
   "metadata": {},
   "outputs": [
    {
     "name": "stdout",
     "output_type": "stream",
     "text": [
      "--2024-10-27 02:36:28--  https://d37ci6vzurychx.cloudfront.net/trip-data/green_tripdata_2023-01.parquet\n",
      "Resolving d37ci6vzurychx.cloudfront.net (d37ci6vzurychx.cloudfront.net)... 3.164.82.160, 3.164.82.40, 3.164.82.197, ...\n",
      "Connecting to d37ci6vzurychx.cloudfront.net (d37ci6vzurychx.cloudfront.net)|3.164.82.160|:443... connected.\n",
      "HTTP request sent, awaiting response... 200 OK\n",
      "Length: 1427002 (1.4M) [binary/octet-stream]\n",
      "Saving to: ‘./data/green_tripdata_2023-01.parquet.1’\n",
      "\n",
      "green_tripdata_2023 100%[===================>]   1.36M  1.82MB/s    in 0.7s    \n",
      "\n",
      "2024-10-27 02:36:30 (1.82 MB/s) - ‘./data/green_tripdata_2023-01.parquet.1’ saved [1427002/1427002]\n",
      "\n",
      "--2024-10-27 02:36:30--  https://d37ci6vzurychx.cloudfront.net/trip-data/green_tripdata_2023-02.parquet\n",
      "Resolving d37ci6vzurychx.cloudfront.net (d37ci6vzurychx.cloudfront.net)... 3.164.82.112, 3.164.82.160, 3.164.82.197, ...\n",
      "Connecting to d37ci6vzurychx.cloudfront.net (d37ci6vzurychx.cloudfront.net)|3.164.82.112|:443... connected.\n",
      "HTTP request sent, awaiting response... 200 OK\n",
      "Length: 1533740 (1.5M) [binary/octet-stream]\n",
      "Saving to: ‘./data/green_tripdata_2023-02.parquet.1’\n",
      "\n",
      "green_tripdata_2023 100%[===================>]   1.46M  1.88MB/s    in 0.8s    \n",
      "\n",
      "2024-10-27 02:36:32 (1.88 MB/s) - ‘./data/green_tripdata_2023-02.parquet.1’ saved [1533740/1533740]\n",
      "\n",
      "--2024-10-27 02:36:33--  https://d37ci6vzurychx.cloudfront.net/trip-data/green_tripdata_2023-03.parquet\n",
      "Resolving d37ci6vzurychx.cloudfront.net (d37ci6vzurychx.cloudfront.net)... 3.164.82.197, 3.164.82.112, 3.164.82.160, ...\n",
      "Connecting to d37ci6vzurychx.cloudfront.net (d37ci6vzurychx.cloudfront.net)|3.164.82.197|:443... connected.\n",
      "HTTP request sent, awaiting response... 200 OK\n",
      "Length: 1730999 (1.7M) [binary/octet-stream]\n",
      "Saving to: ‘./data/green_tripdata_2023-03.parquet.1’\n",
      "\n",
      "green_tripdata_2023 100%[===================>]   1.65M  2.04MB/s    in 0.8s    \n",
      "\n",
      "2024-10-27 02:36:34 (2.04 MB/s) - ‘./data/green_tripdata_2023-03.parquet.1’ saved [1730999/1730999]\n",
      "\n"
     ]
    }
   ],
   "source": [
    "!wget https://d37ci6vzurychx.cloudfront.net/trip-data/green_tripdata_2023-01.parquet -P ./data\n",
    "!wget https://d37ci6vzurychx.cloudfront.net/trip-data/green_tripdata_2023-02.parquet -P ./data\n",
    "!wget https://d37ci6vzurychx.cloudfront.net/trip-data/green_tripdata_2023-03.parquet -P ./data"
   ]
  },
  {
   "cell_type": "code",
   "execution_count": 12,
   "metadata": {},
   "outputs": [],
   "source": [
    "!python ./scripts/preprocess_data.py --raw_data_path ./data --dest_path ./output"
   ]
  },
  {
   "cell_type": "code",
   "execution_count": 13,
   "metadata": {},
   "outputs": [
    {
     "name": "stdout",
     "output_type": "stream",
     "text": [
      "total 6.9M\n",
      "-rw-rw-rw- 1 codespace codespace 128K Oct 27 02:36 dv.pkl\n",
      "-rw-rw-rw- 1 codespace codespace 2.4M Oct 27 02:36 test.pkl\n",
      "-rw-rw-rw- 1 codespace codespace 2.3M Oct 27 02:36 train.pkl\n",
      "-rw-rw-rw- 1 codespace codespace 2.2M Oct 27 02:36 val.pkl\n"
     ]
    }
   ],
   "source": [
    "!ls -lh ./output"
   ]
  },
  {
   "cell_type": "markdown",
   "metadata": {},
   "source": [
    "### Q3. Train a model with autolog\n",
    "\n",
    "We will train a RandomForestRegressor (from Scikit-Learn) on the taxi dataset.\n",
    "\n",
    "We have prepared the training script train.py for this exercise, which can be also found in the folder homework.\n",
    "\n",
    "The script will:\n",
    "\n",
    "-load the datasets produced by the previous step,\n",
    "-train the model on the training set,\n",
    "-calculate the RMSE score on the validation set.\n",
    "\n",
    "Your task is to modify the script to enable autologging with MLflow, execute the script and then launch the MLflow UI to check that the experiment run was properly tracked.\n",
    "\n",
    "Tip 1: don't forget to wrap the training code with a with mlflow.start_run(): statement as we showed in the videos.\n",
    "\n",
    "Tip 2: don't modify the hyperparameters of the model to make sure that the training will finish quickly.\n",
    "\n",
    "What is the value of the min_samples_split parameter:\n",
    "\n",
    "Ans: **2**"
   ]
  },
  {
   "cell_type": "code",
   "execution_count": 8,
   "metadata": {},
   "outputs": [
    {
     "data": {
      "text/plain": [
       "<Experiment: artifact_location='/workspaces/mlops-zoomcamp-hws/02-experiment tracking/artificats/1', creation_time=1729994246907, experiment_id='1', last_update_time=1729994246907, lifecycle_stage='active', name='nyc-green-taxi', tags={}>"
      ]
     },
     "execution_count": 8,
     "metadata": {},
     "output_type": "execute_result"
    }
   ],
   "source": [
    "import mlflow\n",
    "\n",
    "TRACKING_URI=\"http://127.0.0.1:5001\"\n",
    "EXPERIMENT_NAME=\"nyc-green-taxi\"\n",
    "\n",
    "mlflow.set_tracking_uri(TRACKING_URI)\n",
    "mlflow.set_experiment(EXPERIMENT_NAME)"
   ]
  },
  {
   "cell_type": "code",
   "execution_count": 4,
   "metadata": {},
   "outputs": [
    {
     "name": "stdout",
     "output_type": "stream",
     "text": [
      "\u001b[38;2;0;128;0;01mimport\u001b[39;00m \u001b[38;2;0;0;255;01mos\u001b[39;00m\n",
      "\u001b[38;2;0;128;0;01mimport\u001b[39;00m \u001b[38;2;0;0;255;01mpickle\u001b[39;00m\n",
      "\u001b[38;2;0;128;0;01mimport\u001b[39;00m \u001b[38;2;0;0;255;01mclick\u001b[39;00m\n",
      "\n",
      "\u001b[38;2;0;128;0;01mfrom\u001b[39;00m \u001b[38;2;0;0;255;01msklearn\u001b[39;00m\u001b[38;2;0;0;255;01m.\u001b[39;00m\u001b[38;2;0;0;255;01mensemble\u001b[39;00m \u001b[38;2;0;128;0;01mimport\u001b[39;00m RandomForestRegressor\n",
      "\u001b[38;2;0;128;0;01mfrom\u001b[39;00m \u001b[38;2;0;0;255;01msklearn\u001b[39;00m\u001b[38;2;0;0;255;01m.\u001b[39;00m\u001b[38;2;0;0;255;01mmetrics\u001b[39;00m \u001b[38;2;0;128;0;01mimport\u001b[39;00m mean_squared_error\n",
      "\n",
      "\n",
      "\u001b[38;2;0;128;0;01mdef\u001b[39;00m \u001b[38;2;0;0;255mload_pickle\u001b[39m(filename: \u001b[38;2;0;128;0mstr\u001b[39m):\n",
      "    \u001b[38;2;0;128;0;01mwith\u001b[39;00m \u001b[38;2;0;128;0mopen\u001b[39m(filename, \u001b[38;2;186;33;33m\"\u001b[39m\u001b[38;2;186;33;33mrb\u001b[39m\u001b[38;2;186;33;33m\"\u001b[39m) \u001b[38;2;0;128;0;01mas\u001b[39;00m f_in:\n",
      "        \u001b[38;2;0;128;0;01mreturn\u001b[39;00m pickle\u001b[38;2;102;102;102m.\u001b[39mload(f_in)\n",
      "    \n",
      "\n",
      "\u001b[38;2;0;128;0;01mdef\u001b[39;00m \u001b[38;2;0;0;255mtrain_model\u001b[39m(data_path: \u001b[38;2;0;128;0mstr\u001b[39m):\n",
      "    X_train, y_train \u001b[38;2;102;102;102m=\u001b[39m load_pickle(os\u001b[38;2;102;102;102m.\u001b[39mpath\u001b[38;2;102;102;102m.\u001b[39mjoin(data_path, \u001b[38;2;186;33;33m\"\u001b[39m\u001b[38;2;186;33;33mtrain.pkl\u001b[39m\u001b[38;2;186;33;33m\"\u001b[39m))\n",
      "    X_val, y_val \u001b[38;2;102;102;102m=\u001b[39m load_pickle(os\u001b[38;2;102;102;102m.\u001b[39mpath\u001b[38;2;102;102;102m.\u001b[39mjoin(data_path, \u001b[38;2;186;33;33m\"\u001b[39m\u001b[38;2;186;33;33mval.pkl\u001b[39m\u001b[38;2;186;33;33m\"\u001b[39m))\n",
      "\n",
      "    rf \u001b[38;2;102;102;102m=\u001b[39m RandomForestRegressor(max_depth\u001b[38;2;102;102;102m=\u001b[39m\u001b[38;2;102;102;102m10\u001b[39m, random_state\u001b[38;2;102;102;102m=\u001b[39m\u001b[38;2;102;102;102m0\u001b[39m)\n",
      "    rf\u001b[38;2;102;102;102m.\u001b[39mfit(X_train, y_train)\n",
      "    y_pred \u001b[38;2;102;102;102m=\u001b[39m rf\u001b[38;2;102;102;102m.\u001b[39mpredict(X_val)\n",
      "\n",
      "    rmse \u001b[38;2;102;102;102m=\u001b[39m mean_squared_error(y_val, y_pred, squared\u001b[38;2;102;102;102m=\u001b[39m\u001b[38;2;0;128;0;01mFalse\u001b[39;00m)\n",
      "\n",
      "    \u001b[38;2;0;128;0;01mreturn\u001b[39;00m rf, rmse\n",
      "\n",
      "\n",
      "\u001b[38;2;170;34;255m@click\u001b[39m\u001b[38;2;102;102;102m.\u001b[39mcommand()\n",
      "\u001b[38;2;170;34;255m@click\u001b[39m\u001b[38;2;102;102;102m.\u001b[39moption(\n",
      "    \u001b[38;2;186;33;33m\"\u001b[39m\u001b[38;2;186;33;33m--data_path\u001b[39m\u001b[38;2;186;33;33m\"\u001b[39m,\n",
      "    default\u001b[38;2;102;102;102m=\u001b[39m\u001b[38;2;186;33;33m\"\u001b[39m\u001b[38;2;186;33;33m./output\u001b[39m\u001b[38;2;186;33;33m\"\u001b[39m,\n",
      "    help\u001b[38;2;102;102;102m=\u001b[39m\u001b[38;2;186;33;33m\"\u001b[39m\u001b[38;2;186;33;33mLocation where the processed NYC taxi trip data was saved\u001b[39m\u001b[38;2;186;33;33m\"\u001b[39m\n",
      ")\n",
      "\u001b[38;2;0;128;0;01mdef\u001b[39;00m \u001b[38;2;0;0;255mrun_train\u001b[39m(data_path: \u001b[38;2;0;128;0mstr\u001b[39m):\n",
      "    train_model(data_path)\n",
      "    \n",
      "\n",
      "\n",
      "\u001b[38;2;0;128;0;01mif\u001b[39;00m \u001b[38;2;25;23;124m__name__\u001b[39m \u001b[38;2;102;102;102m==\u001b[39m \u001b[38;2;186;33;33m'\u001b[39m\u001b[38;2;186;33;33m__main__\u001b[39m\u001b[38;2;186;33;33m'\u001b[39m:\n",
      "    run_train()\n"
     ]
    }
   ],
   "source": [
    "!pygmentize -g ./scripts/train.py"
   ]
  },
  {
   "cell_type": "code",
   "execution_count": 3,
   "metadata": {},
   "outputs": [
    {
     "name": "stderr",
     "output_type": "stream",
     "text": [
      "2024/10/27 02:44:29 INFO mlflow.tracking.fluent: Autologging successfully enabled for sklearn.\n"
     ]
    },
    {
     "name": "stderr",
     "output_type": "stream",
     "text": [
      "2024/10/27 02:44:29 WARNING mlflow.sklearn: Failed to log training dataset information to MLflow Tracking. Reason: 'numpy.ndarray' object has no attribute 'toarray'\n",
      "/workspaces/mlops-zoomcamp-hws/02-experiment tracking/venv/lib/python3.9/site-packages/sklearn/metrics/_regression.py:492: FutureWarning: 'squared' is deprecated in version 1.4 and will be removed in 1.6. To calculate the root mean squared error, use the function'root_mean_squared_error'.\n",
      "  warnings.warn(\n",
      "2024/10/27 02:44:46 INFO mlflow.tracking._tracking_service.client: 🏃 View run redolent-bee-273 at: http://127.0.0.1:5001/#/experiments/1/runs/c13f613ed7b642538434b4900b3c08bb.\n",
      "2024/10/27 02:44:46 INFO mlflow.tracking._tracking_service.client: 🧪 View experiment at: http://127.0.0.1:5001/#/experiments/1.\n"
     ]
    }
   ],
   "source": [
    "import mlflow\n",
    "from scripts.train import train_model\n",
    "\n",
    "mlflow.autolog()\n",
    "\n",
    "with mlflow.start_run():\n",
    "    train_model(data_path='./output')"
   ]
  },
  {
   "cell_type": "code",
   "execution_count": 9,
   "metadata": {},
   "outputs": [
    {
     "name": "stdout",
     "output_type": "stream",
     "text": [
      "(Experiment)\n",
      "    experiment_id=2\n",
      "    name='random-forest-hyperopt'\n",
      "    artifact_location='/workspaces/mlops-zoomcamp-hws/02-experiment tracking/artifacts/2'\n",
      "\n",
      "(Experiment)\n",
      "    experiment_id=1\n",
      "    name='nyc-green-taxi'\n",
      "    artifact_location='/workspaces/mlops-zoomcamp-hws/02-experiment tracking/artificats/1'\n",
      "\n",
      "(Experiment)\n",
      "    experiment_id=0\n",
      "    name='Default'\n",
      "    artifact_location='/workspaces/mlops-zoomcamp-hws/02-experiment tracking/artificats/0'\n",
      "\n"
     ]
    }
   ],
   "source": [
    "from mlflow.tracking import MlflowClient\n",
    "\n",
    "client = MlflowClient(TRACKING_URI)\n",
    "\n",
    "def print_experiment(experiment):\n",
    "    print(f\"(Experiment)\")\n",
    "    print(f\"    experiment_id={experiment.experiment_id}\")\n",
    "    print(f\"    name='{experiment.name}'\")\n",
    "    print(f\"    artifact_location='{experiment.artifact_location}'\")\n",
    "    print()\n",
    "\n",
    "for experiment in client.search_experiments():\n",
    "    print_experiment(experiment)"
   ]
  },
  {
   "cell_type": "code",
   "execution_count": 10,
   "metadata": {},
   "outputs": [
    {
     "name": "stdout",
     "output_type": "stream",
     "text": [
      "Run ID: c13f613ed7b642538434b4900b3c08bb\n",
      "Parameters:\n",
      "\tbootstrap: True\n",
      "\tccp_alpha: 0.0\n",
      "\tcriterion: squared_error\n",
      "\tmax_depth: 10\n",
      "\tmax_features: 1.0\n",
      "\tmax_leaf_nodes: None\n",
      "\tmax_samples: None\n",
      "\tmin_impurity_decrease: 0.0\n",
      "\tmin_samples_leaf: 1\n",
      "\tmin_samples_split: 2\n",
      "\tmin_weight_fraction_leaf: 0.0\n",
      "\tmonotonic_cst: None\n",
      "\tn_estimators: 100\n",
      "\tn_jobs: None\n",
      "\toob_score: False\n",
      "\trandom_state: 0\n",
      "\tverbose: 0\n",
      "\twarm_start: False\n",
      "\n",
      "Run ID: 70b91497d4414d498961b61819eacb29\n",
      "Parameters:\n",
      "\n",
      "Run ID: 44023533f8194ff6b1a898f436edee64\n",
      "Parameters:\n",
      "\n"
     ]
    }
   ],
   "source": [
    "from mlflow.entities import ViewType\n",
    "\n",
    "runs = client.search_runs(\n",
    "    experiment_ids=1,\n",
    "    filter_string='',\n",
    "    run_view_type=ViewType.ACTIVE_ONLY,\n",
    "    max_results=10,\n",
    "    order_by=[\"metrics.rmse_valid ASC\"]\n",
    ")\n",
    "\n",
    "for run in runs:\n",
    "    info = client.get_run(run.info.run_id)\n",
    "\n",
    "    print(f\"Run ID: {run.info.run_id}\")\n",
    "    print(\"Parameters:\")\n",
    "\n",
    "    for param_key, param_value in info.data.params.items():\n",
    "        print(f\"\\t{param_key}: {param_value}\")\n",
    "\n",
    "    print()"
   ]
  },
  {
   "cell_type": "markdown",
   "metadata": {},
   "source": [
    "### Q4. Launch the tracking server locally\n",
    "\n",
    "Now we want to manage the entire lifecycle of our ML model. In this step, you'll need to launch a tracking server. This way we will also have access to the model registry.\n",
    "\n",
    "Your task is to:\n",
    "- launch the tracking server on your local machine,\n",
    "- select a SQLite db for the backend store and a folder called artifacts for the artifacts store.\n",
    "\n",
    "You should keep the tracking server running to work on the next two exercises that use the server.\n",
    "\n",
    "In addition to backend-store-uri, what else do you need to pass to properly configure the server?\n",
    "\n",
    "Ans: **default-artifact-root**"
   ]
  },
  {
   "cell_type": "markdown",
   "metadata": {},
   "source": [
    "### Q5. Tune model hyperparameters\n",
    "\n",
    "Now let's try to reduce the validation error by tuning the hyperparameters of the RandomForestRegressor using hyperopt. We have prepared the script hpo.py for this exercise.\n",
    "\n",
    "Your task is to modify the script hpo.py and make sure that the validation RMSE is logged to the tracking server for each run of the hyperparameter optimization (you will need to add a few lines of code to the objective function) and run the script without passing any parameters.\n",
    "\n",
    "After that, open UI and explore the runs from the experiment called random-forest-hyperopt to answer the question below.\n",
    "\n",
    "Note: Don't use autologging for this exercise.\n",
    "\n",
    "The idea is to just log the information that you need to answer the question below, including:\n",
    "- the list of hyperparameters that are passed to the objective function during the optimization,\n",
    "- the RMSE obtained on the validation set (February 2023 data).\n",
    "\n",
    "What's the best validation RMSE that you got?\n",
    "\n",
    "Ans: **5.335**"
   ]
  },
  {
   "cell_type": "code",
   "execution_count": 2,
   "metadata": {},
   "outputs": [
    {
     "name": "stdout",
     "output_type": "stream",
     "text": [
      "\u001b[38;2;0;128;0;01mimport\u001b[39;00m \u001b[38;2;0;0;255;01mos\u001b[39;00m\n",
      "\u001b[38;2;0;128;0;01mimport\u001b[39;00m \u001b[38;2;0;0;255;01mpickle\u001b[39;00m\n",
      "\u001b[38;2;0;128;0;01mimport\u001b[39;00m \u001b[38;2;0;0;255;01mclick\u001b[39;00m\n",
      "\u001b[38;2;0;128;0;01mimport\u001b[39;00m \u001b[38;2;0;0;255;01mmlflow\u001b[39;00m\n",
      "\u001b[38;2;0;128;0;01mimport\u001b[39;00m \u001b[38;2;0;0;255;01mnumpy\u001b[39;00m \u001b[38;2;0;128;0;01mas\u001b[39;00m \u001b[38;2;0;0;255;01mnp\u001b[39;00m\n",
      "\u001b[38;2;0;128;0;01mfrom\u001b[39;00m \u001b[38;2;0;0;255;01mhyperopt\u001b[39;00m \u001b[38;2;0;128;0;01mimport\u001b[39;00m STATUS_OK, Trials, fmin, hp, tpe\n",
      "\u001b[38;2;0;128;0;01mfrom\u001b[39;00m \u001b[38;2;0;0;255;01mhyperopt\u001b[39;00m\u001b[38;2;0;0;255;01m.\u001b[39;00m\u001b[38;2;0;0;255;01mpyll\u001b[39;00m \u001b[38;2;0;128;0;01mimport\u001b[39;00m scope\n",
      "\u001b[38;2;0;128;0;01mfrom\u001b[39;00m \u001b[38;2;0;0;255;01msklearn\u001b[39;00m\u001b[38;2;0;0;255;01m.\u001b[39;00m\u001b[38;2;0;0;255;01mensemble\u001b[39;00m \u001b[38;2;0;128;0;01mimport\u001b[39;00m RandomForestRegressor\n",
      "\u001b[38;2;0;128;0;01mfrom\u001b[39;00m \u001b[38;2;0;0;255;01msklearn\u001b[39;00m\u001b[38;2;0;0;255;01m.\u001b[39;00m\u001b[38;2;0;0;255;01mmetrics\u001b[39;00m \u001b[38;2;0;128;0;01mimport\u001b[39;00m mean_squared_error\n",
      "\n",
      "mlflow\u001b[38;2;102;102;102m.\u001b[39mset_tracking_uri(\u001b[38;2;186;33;33m\"\u001b[39m\u001b[38;2;186;33;33mhttp://127.0.0.1:5000\u001b[39m\u001b[38;2;186;33;33m\"\u001b[39m)\n",
      "mlflow\u001b[38;2;102;102;102m.\u001b[39mset_experiment(\u001b[38;2;186;33;33m\"\u001b[39m\u001b[38;2;186;33;33mrandom-forest-hyperopt\u001b[39m\u001b[38;2;186;33;33m\"\u001b[39m)\n",
      "\n",
      "\n",
      "\u001b[38;2;0;128;0;01mdef\u001b[39;00m \u001b[38;2;0;0;255mload_pickle\u001b[39m(filename: \u001b[38;2;0;128;0mstr\u001b[39m):\n",
      "    \u001b[38;2;0;128;0;01mwith\u001b[39;00m \u001b[38;2;0;128;0mopen\u001b[39m(filename, \u001b[38;2;186;33;33m\"\u001b[39m\u001b[38;2;186;33;33mrb\u001b[39m\u001b[38;2;186;33;33m\"\u001b[39m) \u001b[38;2;0;128;0;01mas\u001b[39;00m f_in:\n",
      "        \u001b[38;2;0;128;0;01mreturn\u001b[39;00m pickle\u001b[38;2;102;102;102m.\u001b[39mload(f_in)\n",
      "\n",
      "\n",
      "\u001b[38;2;170;34;255m@click\u001b[39m\u001b[38;2;102;102;102m.\u001b[39mcommand()\n",
      "\u001b[38;2;170;34;255m@click\u001b[39m\u001b[38;2;102;102;102m.\u001b[39moption(\n",
      "    \u001b[38;2;186;33;33m\"\u001b[39m\u001b[38;2;186;33;33m--data_path\u001b[39m\u001b[38;2;186;33;33m\"\u001b[39m,\n",
      "    default\u001b[38;2;102;102;102m=\u001b[39m\u001b[38;2;186;33;33m\"\u001b[39m\u001b[38;2;186;33;33m./output\u001b[39m\u001b[38;2;186;33;33m\"\u001b[39m,\n",
      "    help\u001b[38;2;102;102;102m=\u001b[39m\u001b[38;2;186;33;33m\"\u001b[39m\u001b[38;2;186;33;33mLocation where the processed NYC taxi trip data was saved\u001b[39m\u001b[38;2;186;33;33m\"\u001b[39m\n",
      ")\n",
      "\u001b[38;2;170;34;255m@click\u001b[39m\u001b[38;2;102;102;102m.\u001b[39moption(\n",
      "    \u001b[38;2;186;33;33m\"\u001b[39m\u001b[38;2;186;33;33m--num_trials\u001b[39m\u001b[38;2;186;33;33m\"\u001b[39m,\n",
      "    default\u001b[38;2;102;102;102m=\u001b[39m\u001b[38;2;102;102;102m15\u001b[39m,\n",
      "    help\u001b[38;2;102;102;102m=\u001b[39m\u001b[38;2;186;33;33m\"\u001b[39m\u001b[38;2;186;33;33mThe number of parameter evaluations for the optimizer to explore\u001b[39m\u001b[38;2;186;33;33m\"\u001b[39m\n",
      ")\n",
      "\u001b[38;2;0;128;0;01mdef\u001b[39;00m \u001b[38;2;0;0;255mrun_optimization\u001b[39m(data_path: \u001b[38;2;0;128;0mstr\u001b[39m, num_trials: \u001b[38;2;0;128;0mint\u001b[39m):\n",
      "\n",
      "    X_train, y_train \u001b[38;2;102;102;102m=\u001b[39m load_pickle(os\u001b[38;2;102;102;102m.\u001b[39mpath\u001b[38;2;102;102;102m.\u001b[39mjoin(data_path, \u001b[38;2;186;33;33m\"\u001b[39m\u001b[38;2;186;33;33mtrain.pkl\u001b[39m\u001b[38;2;186;33;33m\"\u001b[39m))\n",
      "    X_val, y_val \u001b[38;2;102;102;102m=\u001b[39m load_pickle(os\u001b[38;2;102;102;102m.\u001b[39mpath\u001b[38;2;102;102;102m.\u001b[39mjoin(data_path, \u001b[38;2;186;33;33m\"\u001b[39m\u001b[38;2;186;33;33mval.pkl\u001b[39m\u001b[38;2;186;33;33m\"\u001b[39m))\n",
      "\n",
      "    \u001b[38;2;0;128;0;01mdef\u001b[39;00m \u001b[38;2;0;0;255mobjective\u001b[39m(params):\n",
      "        \u001b[38;2;0;128;0;01mwith\u001b[39;00m mlflow\u001b[38;2;102;102;102m.\u001b[39mstart_run():\n",
      "            rf \u001b[38;2;102;102;102m=\u001b[39m RandomForestRegressor(\u001b[38;2;102;102;102m*\u001b[39m\u001b[38;2;102;102;102m*\u001b[39mparams)\n",
      "            rf\u001b[38;2;102;102;102m.\u001b[39mfit(X_train, y_train)\n",
      "            y_pred \u001b[38;2;102;102;102m=\u001b[39m rf\u001b[38;2;102;102;102m.\u001b[39mpredict(X_val)\n",
      "            rmse \u001b[38;2;102;102;102m=\u001b[39m mean_squared_error(y_val, y_pred, squared\u001b[38;2;102;102;102m=\u001b[39m\u001b[38;2;0;128;0;01mFalse\u001b[39;00m)\n",
      "\n",
      "            \u001b[38;2;61;123;123;03m# Logging feature pipe\u001b[39;00m\n",
      "            mlflow\u001b[38;2;102;102;102m.\u001b[39mlog_params(params)\n",
      "            mlflow\u001b[38;2;102;102;102m.\u001b[39mlog_metric(\u001b[38;2;186;33;33m\"\u001b[39m\u001b[38;2;186;33;33mrmse\u001b[39m\u001b[38;2;186;33;33m\"\u001b[39m, rmse)\n",
      "\n",
      "            \u001b[38;2;0;128;0;01mreturn\u001b[39;00m {\u001b[38;2;186;33;33m'\u001b[39m\u001b[38;2;186;33;33mloss\u001b[39m\u001b[38;2;186;33;33m'\u001b[39m: rmse, \u001b[38;2;186;33;33m'\u001b[39m\u001b[38;2;186;33;33mstatus\u001b[39m\u001b[38;2;186;33;33m'\u001b[39m: STATUS_OK}\n",
      "\n",
      "    search_space \u001b[38;2;102;102;102m=\u001b[39m {\n",
      "        \u001b[38;2;186;33;33m'\u001b[39m\u001b[38;2;186;33;33mmax_depth\u001b[39m\u001b[38;2;186;33;33m'\u001b[39m: scope\u001b[38;2;102;102;102m.\u001b[39mint(hp\u001b[38;2;102;102;102m.\u001b[39mquniform(\u001b[38;2;186;33;33m'\u001b[39m\u001b[38;2;186;33;33mmax_depth\u001b[39m\u001b[38;2;186;33;33m'\u001b[39m, \u001b[38;2;102;102;102m1\u001b[39m, \u001b[38;2;102;102;102m20\u001b[39m, \u001b[38;2;102;102;102m1\u001b[39m)),\n",
      "        \u001b[38;2;186;33;33m'\u001b[39m\u001b[38;2;186;33;33mn_estimators\u001b[39m\u001b[38;2;186;33;33m'\u001b[39m: scope\u001b[38;2;102;102;102m.\u001b[39mint(hp\u001b[38;2;102;102;102m.\u001b[39mquniform(\u001b[38;2;186;33;33m'\u001b[39m\u001b[38;2;186;33;33mn_estimators\u001b[39m\u001b[38;2;186;33;33m'\u001b[39m, \u001b[38;2;102;102;102m10\u001b[39m, \u001b[38;2;102;102;102m50\u001b[39m, \u001b[38;2;102;102;102m1\u001b[39m)),\n",
      "        \u001b[38;2;186;33;33m'\u001b[39m\u001b[38;2;186;33;33mmin_samples_split\u001b[39m\u001b[38;2;186;33;33m'\u001b[39m: scope\u001b[38;2;102;102;102m.\u001b[39mint(hp\u001b[38;2;102;102;102m.\u001b[39mquniform(\u001b[38;2;186;33;33m'\u001b[39m\u001b[38;2;186;33;33mmin_samples_split\u001b[39m\u001b[38;2;186;33;33m'\u001b[39m, \u001b[38;2;102;102;102m2\u001b[39m, \u001b[38;2;102;102;102m10\u001b[39m, \u001b[38;2;102;102;102m1\u001b[39m)),\n",
      "        \u001b[38;2;186;33;33m'\u001b[39m\u001b[38;2;186;33;33mmin_samples_leaf\u001b[39m\u001b[38;2;186;33;33m'\u001b[39m: scope\u001b[38;2;102;102;102m.\u001b[39mint(hp\u001b[38;2;102;102;102m.\u001b[39mquniform(\u001b[38;2;186;33;33m'\u001b[39m\u001b[38;2;186;33;33mmin_samples_leaf\u001b[39m\u001b[38;2;186;33;33m'\u001b[39m, \u001b[38;2;102;102;102m1\u001b[39m, \u001b[38;2;102;102;102m4\u001b[39m, \u001b[38;2;102;102;102m1\u001b[39m)),\n",
      "        \u001b[38;2;186;33;33m'\u001b[39m\u001b[38;2;186;33;33mrandom_state\u001b[39m\u001b[38;2;186;33;33m'\u001b[39m: \u001b[38;2;102;102;102m42\u001b[39m\n",
      "    }\n",
      "\n",
      "    rstate \u001b[38;2;102;102;102m=\u001b[39m np\u001b[38;2;102;102;102m.\u001b[39mrandom\u001b[38;2;102;102;102m.\u001b[39mdefault_rng(\u001b[38;2;102;102;102m42\u001b[39m)  \u001b[38;2;61;123;123;03m# for reproducible results\u001b[39;00m\n",
      "    fmin(\n",
      "        fn\u001b[38;2;102;102;102m=\u001b[39mobjective,\n",
      "        space\u001b[38;2;102;102;102m=\u001b[39msearch_space,\n",
      "        algo\u001b[38;2;102;102;102m=\u001b[39mtpe\u001b[38;2;102;102;102m.\u001b[39msuggest,\n",
      "        max_evals\u001b[38;2;102;102;102m=\u001b[39mnum_trials,\n",
      "        trials\u001b[38;2;102;102;102m=\u001b[39mTrials(),\n",
      "        rstate\u001b[38;2;102;102;102m=\u001b[39mrstate\n",
      "    )\n",
      "\n",
      "\n",
      "\u001b[38;2;0;128;0;01mif\u001b[39;00m \u001b[38;2;25;23;124m__name__\u001b[39m \u001b[38;2;102;102;102m==\u001b[39m \u001b[38;2;186;33;33m'\u001b[39m\u001b[38;2;186;33;33m__main__\u001b[39m\u001b[38;2;186;33;33m'\u001b[39m:\n",
      "    run_optimization()\n"
     ]
    }
   ],
   "source": [
    "!pygmentize -g ./scripts/hpo.py"
   ]
  },
  {
   "cell_type": "code",
   "execution_count": 4,
   "metadata": {},
   "outputs": [
    {
     "name": "stdout",
     "output_type": "stream",
     "text": [
      "2024/10/27 14:16:36 INFO mlflow.tracking.fluent: Experiment with name 'random-forest-hyperopt' does not exist. Creating a new experiment.\n",
      "  0%|                                    | 0/15 [00:00<?, ?trial/s, best loss=?]/workspaces/mlops-zoomcamp-hws/02-experiment tracking/venv/lib/python3.9/site-packages/sklearn/metrics/_regression.py:492: FutureWarning: 'squared' is deprecated in version 1.4 and will be removed in 1.6. To calculate the root mean squared error, use the function'root_mean_squared_error'.\n",
      "  warnings.warn(\n",
      "\n",
      "2024/10/27 14:16:44 INFO mlflow.tracking._tracking_service.client: 🏃 View run agreeable-seal-151 at: http://127.0.0.1:5001/#/experiments/2/runs/ea1106b339e54bffa9d72cd1d5b5827e.\n",
      "\n",
      "2024/10/27 14:16:44 INFO mlflow.tracking._tracking_service.client: 🧪 View experiment at: http://127.0.0.1:5001/#/experiments/2.\n",
      "\n",
      "  7%|▋          | 1/15 [00:07<01:47,  7.64s/trial, best loss: 5.370086069268862]/workspaces/mlops-zoomcamp-hws/02-experiment tracking/venv/lib/python3.9/site-packages/sklearn/metrics/_regression.py:492: FutureWarning: 'squared' is deprecated in version 1.4 and will be removed in 1.6. To calculate the root mean squared error, use the function'root_mean_squared_error'.\n",
      "  warnings.warn(\n",
      "\n",
      "2024/10/27 14:16:45 INFO mlflow.tracking._tracking_service.client: 🏃 View run masked-robin-531 at: http://127.0.0.1:5001/#/experiments/2/runs/2dd213ed5281493e919899a243bac71c.\n",
      "\n",
      "2024/10/27 14:16:45 INFO mlflow.tracking._tracking_service.client: 🧪 View experiment at: http://127.0.0.1:5001/#/experiments/2.\n",
      "\n",
      " 13%|█▍         | 2/15 [00:08<00:44,  3.44s/trial, best loss: 5.370086069268862]/workspaces/mlops-zoomcamp-hws/02-experiment tracking/venv/lib/python3.9/site-packages/sklearn/metrics/_regression.py:492: FutureWarning: 'squared' is deprecated in version 1.4 and will be removed in 1.6. To calculate the root mean squared error, use the function'root_mean_squared_error'.\n",
      "  warnings.warn(\n",
      "\n",
      "2024/10/27 14:16:45 INFO mlflow.tracking._tracking_service.client: 🏃 View run youthful-ape-344 at: http://127.0.0.1:5001/#/experiments/2/runs/a541df84850f4b3698c68b5f479eb13f.\n",
      "\n",
      "2024/10/27 14:16:45 INFO mlflow.tracking._tracking_service.client: 🧪 View experiment at: http://127.0.0.1:5001/#/experiments/2.\n",
      "\n",
      " 20%|██▏        | 3/15 [00:08<00:26,  2.17s/trial, best loss: 5.370086069268862]/workspaces/mlops-zoomcamp-hws/02-experiment tracking/venv/lib/python3.9/site-packages/sklearn/metrics/_regression.py:492: FutureWarning: 'squared' is deprecated in version 1.4 and will be removed in 1.6. To calculate the root mean squared error, use the function'root_mean_squared_error'.\n",
      "  warnings.warn(\n",
      "\n",
      "2024/10/27 14:16:50 INFO mlflow.tracking._tracking_service.client: 🏃 View run sincere-dolphin-54 at: http://127.0.0.1:5001/#/experiments/2/runs/3b104a6d43e145f0a01978695fea89f7.\n",
      "\n",
      "2024/10/27 14:16:50 INFO mlflow.tracking._tracking_service.client: 🧪 View experiment at: http://127.0.0.1:5001/#/experiments/2.\n",
      "\n",
      " 27%|██▉        | 4/15 [00:13<00:36,  3.32s/trial, best loss: 5.357490752366866]/workspaces/mlops-zoomcamp-hws/02-experiment tracking/venv/lib/python3.9/site-packages/sklearn/metrics/_regression.py:492: FutureWarning: 'squared' is deprecated in version 1.4 and will be removed in 1.6. To calculate the root mean squared error, use the function'root_mean_squared_error'.\n",
      "  warnings.warn(\n",
      "\n",
      "2024/10/27 14:16:53 INFO mlflow.tracking._tracking_service.client: 🏃 View run rebellious-panda-127 at: http://127.0.0.1:5001/#/experiments/2/runs/26404ca8549e4c099e5b9b7520e5866d.\n",
      "\n",
      "2024/10/27 14:16:53 INFO mlflow.tracking._tracking_service.client: 🧪 View experiment at: http://127.0.0.1:5001/#/experiments/2.\n",
      "\n",
      " 33%|███▋       | 5/15 [00:16<00:30,  3.06s/trial, best loss: 5.357490752366866]/workspaces/mlops-zoomcamp-hws/02-experiment tracking/venv/lib/python3.9/site-packages/sklearn/metrics/_regression.py:492: FutureWarning: 'squared' is deprecated in version 1.4 and will be removed in 1.6. To calculate the root mean squared error, use the function'root_mean_squared_error'.\n",
      "  warnings.warn(\n",
      "\n",
      "2024/10/27 14:17:02 INFO mlflow.tracking._tracking_service.client: 🏃 View run bouncy-horse-467 at: http://127.0.0.1:5001/#/experiments/2/runs/411569a0b1ad4e4692b91c2e46025ad4.\n",
      "\n",
      "2024/10/27 14:17:02 INFO mlflow.tracking._tracking_service.client: 🧪 View experiment at: http://127.0.0.1:5001/#/experiments/2.\n",
      "\n",
      " 40%|████▍      | 6/15 [00:25<00:44,  4.93s/trial, best loss: 5.354695072530291]/workspaces/mlops-zoomcamp-hws/02-experiment tracking/venv/lib/python3.9/site-packages/sklearn/metrics/_regression.py:492: FutureWarning: 'squared' is deprecated in version 1.4 and will be removed in 1.6. To calculate the root mean squared error, use the function'root_mean_squared_error'.\n",
      "  warnings.warn(\n",
      "\n",
      "2024/10/27 14:17:10 INFO mlflow.tracking._tracking_service.client: 🏃 View run painted-goose-513 at: http://127.0.0.1:5001/#/experiments/2/runs/ebf1e50398424a41bcb7c10c60a2297d.\n",
      "\n",
      "2024/10/27 14:17:10 INFO mlflow.tracking._tracking_service.client: 🧪 View experiment at: http://127.0.0.1:5001/#/experiments/2.\n",
      "\n",
      " 47%|█████▏     | 7/15 [00:33<00:48,  6.09s/trial, best loss: 5.354695072530291]/workspaces/mlops-zoomcamp-hws/02-experiment tracking/venv/lib/python3.9/site-packages/sklearn/metrics/_regression.py:492: FutureWarning: 'squared' is deprecated in version 1.4 and will be removed in 1.6. To calculate the root mean squared error, use the function'root_mean_squared_error'.\n",
      "  warnings.warn(\n",
      "\n",
      "2024/10/27 14:17:11 INFO mlflow.tracking._tracking_service.client: 🏃 View run enchanting-grub-611 at: http://127.0.0.1:5001/#/experiments/2/runs/c3b0d2b40fc14f659785720c73ae2b3e.\n",
      "\n",
      "2024/10/27 14:17:11 INFO mlflow.tracking._tracking_service.client: 🧪 View experiment at: http://127.0.0.1:5001/#/experiments/2.\n",
      "\n",
      " 53%|█████▊     | 8/15 [00:34<00:31,  4.48s/trial, best loss: 5.354695072530291]/workspaces/mlops-zoomcamp-hws/02-experiment tracking/venv/lib/python3.9/site-packages/sklearn/metrics/_regression.py:492: FutureWarning: 'squared' is deprecated in version 1.4 and will be removed in 1.6. To calculate the root mean squared error, use the function'root_mean_squared_error'.\n",
      "  warnings.warn(\n",
      "\n",
      "2024/10/27 14:17:16 INFO mlflow.tracking._tracking_service.client: 🏃 View run monumental-mouse-971 at: http://127.0.0.1:5001/#/experiments/2/runs/52954a0496fc4c2e8d2d650d2f059c65.\n",
      "\n",
      "2024/10/27 14:17:16 INFO mlflow.tracking._tracking_service.client: 🧪 View experiment at: http://127.0.0.1:5001/#/experiments/2.\n",
      "\n",
      " 60%|██████▌    | 9/15 [00:39<00:28,  4.76s/trial, best loss: 5.354695072530291]/workspaces/mlops-zoomcamp-hws/02-experiment tracking/venv/lib/python3.9/site-packages/sklearn/metrics/_regression.py:492: FutureWarning: 'squared' is deprecated in version 1.4 and will be removed in 1.6. To calculate the root mean squared error, use the function'root_mean_squared_error'.\n",
      "  warnings.warn(\n",
      "\n",
      "2024/10/27 14:17:21 INFO mlflow.tracking._tracking_service.client: 🏃 View run bold-cat-636 at: http://127.0.0.1:5001/#/experiments/2/runs/687498e62d814599ade2cd820f7a49ea.\n",
      "\n",
      "2024/10/27 14:17:21 INFO mlflow.tracking._tracking_service.client: 🧪 View experiment at: http://127.0.0.1:5001/#/experiments/2.\n",
      "\n",
      " 67%|██████▋   | 10/15 [00:44<00:23,  4.63s/trial, best loss: 5.354695072530291]/workspaces/mlops-zoomcamp-hws/02-experiment tracking/venv/lib/python3.9/site-packages/sklearn/metrics/_regression.py:492: FutureWarning: 'squared' is deprecated in version 1.4 and will be removed in 1.6. To calculate the root mean squared error, use the function'root_mean_squared_error'.\n",
      "  warnings.warn(\n",
      "\n",
      "2024/10/27 14:17:24 INFO mlflow.tracking._tracking_service.client: 🏃 View run angry-shark-732 at: http://127.0.0.1:5001/#/experiments/2/runs/c8be20d68f93459b9f7e1abe68264df0.\n",
      "\n",
      "2024/10/27 14:17:24 INFO mlflow.tracking._tracking_service.client: 🧪 View experiment at: http://127.0.0.1:5001/#/experiments/2.\n",
      "\n",
      " 73%|███████▎  | 11/15 [00:47<00:17,  4.25s/trial, best loss: 5.335419588556921]/workspaces/mlops-zoomcamp-hws/02-experiment tracking/venv/lib/python3.9/site-packages/sklearn/metrics/_regression.py:492: FutureWarning: 'squared' is deprecated in version 1.4 and will be removed in 1.6. To calculate the root mean squared error, use the function'root_mean_squared_error'.\n",
      "  warnings.warn(\n",
      "\n",
      "2024/10/27 14:17:27 INFO mlflow.tracking._tracking_service.client: 🏃 View run gregarious-eel-454 at: http://127.0.0.1:5001/#/experiments/2/runs/ab7d9503242f40ed9dd033d7de881e85.\n",
      "\n",
      "2024/10/27 14:17:27 INFO mlflow.tracking._tracking_service.client: 🧪 View experiment at: http://127.0.0.1:5001/#/experiments/2.\n",
      "\n",
      " 80%|████████  | 12/15 [00:50<00:11,  3.80s/trial, best loss: 5.335419588556921]/workspaces/mlops-zoomcamp-hws/02-experiment tracking/venv/lib/python3.9/site-packages/sklearn/metrics/_regression.py:492: FutureWarning: 'squared' is deprecated in version 1.4 and will be removed in 1.6. To calculate the root mean squared error, use the function'root_mean_squared_error'.\n",
      "  warnings.warn(\n",
      "\n",
      "2024/10/27 14:17:28 INFO mlflow.tracking._tracking_service.client: 🏃 View run awesome-skunk-562 at: http://127.0.0.1:5001/#/experiments/2/runs/e23340f0ebe4426196b24a756e616688.\n",
      "\n",
      "2024/10/27 14:17:28 INFO mlflow.tracking._tracking_service.client: 🧪 View experiment at: http://127.0.0.1:5001/#/experiments/2.\n",
      "\n",
      " 87%|████████▋ | 13/15 [00:51<00:05,  2.96s/trial, best loss: 5.335419588556921]/workspaces/mlops-zoomcamp-hws/02-experiment tracking/venv/lib/python3.9/site-packages/sklearn/metrics/_regression.py:492: FutureWarning: 'squared' is deprecated in version 1.4 and will be removed in 1.6. To calculate the root mean squared error, use the function'root_mean_squared_error'.\n",
      "  warnings.warn(\n",
      "\n",
      "2024/10/27 14:17:31 INFO mlflow.tracking._tracking_service.client: 🏃 View run gentle-owl-482 at: http://127.0.0.1:5001/#/experiments/2/runs/7d20b282b99b4ea097a91e0505bdcb39.\n",
      "\n",
      "2024/10/27 14:17:31 INFO mlflow.tracking._tracking_service.client: 🧪 View experiment at: http://127.0.0.1:5001/#/experiments/2.\n",
      "\n",
      " 93%|█████████▎| 14/15 [00:54<00:03,  3.02s/trial, best loss: 5.335419588556921]/workspaces/mlops-zoomcamp-hws/02-experiment tracking/venv/lib/python3.9/site-packages/sklearn/metrics/_regression.py:492: FutureWarning: 'squared' is deprecated in version 1.4 and will be removed in 1.6. To calculate the root mean squared error, use the function'root_mean_squared_error'.\n",
      "  warnings.warn(\n",
      "\n",
      "2024/10/27 14:17:36 INFO mlflow.tracking._tracking_service.client: 🏃 View run handsome-carp-926 at: http://127.0.0.1:5001/#/experiments/2/runs/5364fe187c9d4ed3a042da15c0f7e417.\n",
      "\n",
      "2024/10/27 14:17:36 INFO mlflow.tracking._tracking_service.client: 🧪 View experiment at: http://127.0.0.1:5001/#/experiments/2.\n",
      "\n",
      "100%|██████████| 15/15 [00:59<00:00,  3.97s/trial, best loss: 5.335419588556921]\n"
     ]
    }
   ],
   "source": [
    "!python ./scripts/hpo.py"
   ]
  },
  {
   "cell_type": "code",
   "execution_count": 11,
   "metadata": {},
   "outputs": [
    {
     "name": "stdout",
     "output_type": "stream",
     "text": [
      "handsome-carp... 5364fe187c9d4ed3a042da15c0f7e417 rmse: 5.355\n",
      "gentle-owl-482   7d20b282b99b4ea097a91e0505bdcb39 rmse: 5.372\n",
      "awesome-skunk... e23340f0ebe4426196b24a756e616688 rmse: 5.538\n",
      "gregarious-ee... ab7d9503242f40ed9dd033d7de881e85 rmse: 5.484\n",
      "angry-shark-732  c8be20d68f93459b9f7e1abe68264df0 rmse: 5.335\n",
      "bold-cat-636     687498e62d814599ade2cd820f7a49ea rmse: 5.363\n",
      "monumental-mo... 52954a0496fc4c2e8d2d650d2f059c65 rmse: 5.411\n",
      "enchanting-gr... c3b0d2b40fc14f659785720c73ae2b3e rmse: 5.465\n",
      "painted-goose... ebf1e50398424a41bcb7c10c60a2297d rmse: 5.364\n",
      "bouncy-horse-467 411569a0b1ad4e4692b91c2e46025ad4 rmse: 5.355\n",
      "rebellious-pa... 26404ca8549e4c099e5b9b7520e5866d rmse: 5.443\n",
      "sincere-dolph... 3b104a6d43e145f0a01978695fea89f7 rmse: 5.357\n",
      "youthful-ape-344 a541df84850f4b3698c68b5f479eb13f rmse: 5.618\n"
     ]
    }
   ],
   "source": [
    "runs = client.search_runs(\n",
    "    experiment_ids=2,\n",
    "    filter_string='',\n",
    "    run_view_type=ViewType.ACTIVE_ONLY,\n",
    "    max_results=13,\n",
    "    order_by=[\"metrics.rmse_valid ASC\"]\n",
    ")\n",
    "\n",
    "for run in runs:\n",
    "    name = run.info.run_name\n",
    "\n",
    "    format_name = name + \" \" * (16 - len(name)) if len(name) <= 16 else name[:13] + \"...\"\n",
    "    print(f\"{format_name} {run.info.run_id} rmse: {run.data.metrics['rmse']:.3f}\")"
   ]
  },
  {
   "cell_type": "markdown",
   "metadata": {},
   "source": [
    "### Q6. Promote the best model to the model registry\n",
    "\n",
    "The results from the hyperparameter optimization are quite good. So, we can assume that we are ready to test some of these models in production. In this exercise, you'll promote the best model to the model registry. We have prepared a script called register_model.py, which will check the results from the previous step and select the top 5 runs. After that, it will calculate the RMSE of those models on the test set (March 2023 data) and save the results to a new experiment called random-forest-best-models.\n",
    "\n",
    "Your task is to update the script register_model.py so that it selects the model with the lowest RMSE on the test set and registers it to the model registry.\n",
    "\n",
    "Tip 1: you can use the method search_runs from the MlflowClient to get the model with the lowest RMSE,\n",
    "\n",
    "Tip 2: to register the model you can use the method mlflow.register_model and you will need to pass the right model_uri in the form of a string that looks like this: \"runs:/<RUN_ID>/model\", and the name of the model (make sure to choose a good one!).\n",
    "\n",
    "What is the test RMSE of the best model?\n",
    "\n",
    "Ans: **5.567**"
   ]
  },
  {
   "cell_type": "code",
   "execution_count": 13,
   "metadata": {},
   "outputs": [
    {
     "name": "stdout",
     "output_type": "stream",
     "text": [
      "\u001b[38;2;0;128;0;01mimport\u001b[39;00m \u001b[38;2;0;0;255;01mos\u001b[39;00m\n",
      "\u001b[38;2;0;128;0;01mimport\u001b[39;00m \u001b[38;2;0;0;255;01mpickle\u001b[39;00m\n",
      "\u001b[38;2;0;128;0;01mimport\u001b[39;00m \u001b[38;2;0;0;255;01mclick\u001b[39;00m\n",
      "\u001b[38;2;0;128;0;01mimport\u001b[39;00m \u001b[38;2;0;0;255;01mmlflow\u001b[39;00m\n",
      "\n",
      "\u001b[38;2;0;128;0;01mfrom\u001b[39;00m \u001b[38;2;0;0;255;01mmlflow\u001b[39;00m\u001b[38;2;0;0;255;01m.\u001b[39;00m\u001b[38;2;0;0;255;01mentities\u001b[39;00m \u001b[38;2;0;128;0;01mimport\u001b[39;00m ViewType\n",
      "\u001b[38;2;0;128;0;01mfrom\u001b[39;00m \u001b[38;2;0;0;255;01mmlflow\u001b[39;00m\u001b[38;2;0;0;255;01m.\u001b[39;00m\u001b[38;2;0;0;255;01mtracking\u001b[39;00m \u001b[38;2;0;128;0;01mimport\u001b[39;00m MlflowClient\n",
      "\u001b[38;2;0;128;0;01mfrom\u001b[39;00m \u001b[38;2;0;0;255;01msklearn\u001b[39;00m\u001b[38;2;0;0;255;01m.\u001b[39;00m\u001b[38;2;0;0;255;01mensemble\u001b[39;00m \u001b[38;2;0;128;0;01mimport\u001b[39;00m RandomForestRegressor\n",
      "\u001b[38;2;0;128;0;01mfrom\u001b[39;00m \u001b[38;2;0;0;255;01msklearn\u001b[39;00m\u001b[38;2;0;0;255;01m.\u001b[39;00m\u001b[38;2;0;0;255;01mmetrics\u001b[39;00m \u001b[38;2;0;128;0;01mimport\u001b[39;00m mean_squared_error\n",
      "\n",
      "HPO_EXPERIMENT_NAME \u001b[38;2;102;102;102m=\u001b[39m \u001b[38;2;186;33;33m\"\u001b[39m\u001b[38;2;186;33;33mrandom-forest-hyperopt\u001b[39m\u001b[38;2;186;33;33m\"\u001b[39m\n",
      "EXPERIMENT_NAME \u001b[38;2;102;102;102m=\u001b[39m \u001b[38;2;186;33;33m\"\u001b[39m\u001b[38;2;186;33;33mrandom-forest-best-models\u001b[39m\u001b[38;2;186;33;33m\"\u001b[39m\n",
      "RF_PARAMS \u001b[38;2;102;102;102m=\u001b[39m [\u001b[38;2;186;33;33m'\u001b[39m\u001b[38;2;186;33;33mmax_depth\u001b[39m\u001b[38;2;186;33;33m'\u001b[39m, \u001b[38;2;186;33;33m'\u001b[39m\u001b[38;2;186;33;33mn_estimators\u001b[39m\u001b[38;2;186;33;33m'\u001b[39m, \u001b[38;2;186;33;33m'\u001b[39m\u001b[38;2;186;33;33mmin_samples_split\u001b[39m\u001b[38;2;186;33;33m'\u001b[39m, \u001b[38;2;186;33;33m'\u001b[39m\u001b[38;2;186;33;33mmin_samples_leaf\u001b[39m\u001b[38;2;186;33;33m'\u001b[39m, \u001b[38;2;186;33;33m'\u001b[39m\u001b[38;2;186;33;33mrandom_state\u001b[39m\u001b[38;2;186;33;33m'\u001b[39m]\n",
      "\n",
      "mlflow\u001b[38;2;102;102;102m.\u001b[39mset_tracking_uri(\u001b[38;2;186;33;33m\"\u001b[39m\u001b[38;2;186;33;33mhttp://127.0.0.1:5001\u001b[39m\u001b[38;2;186;33;33m\"\u001b[39m)\n",
      "mlflow\u001b[38;2;102;102;102m.\u001b[39mset_experiment(EXPERIMENT_NAME)\n",
      "mlflow\u001b[38;2;102;102;102m.\u001b[39msklearn\u001b[38;2;102;102;102m.\u001b[39mautolog()\n",
      "\n",
      "\n",
      "\u001b[38;2;0;128;0;01mdef\u001b[39;00m \u001b[38;2;0;0;255mload_pickle\u001b[39m(filename):\n",
      "    \u001b[38;2;0;128;0;01mwith\u001b[39;00m \u001b[38;2;0;128;0mopen\u001b[39m(filename, \u001b[38;2;186;33;33m\"\u001b[39m\u001b[38;2;186;33;33mrb\u001b[39m\u001b[38;2;186;33;33m\"\u001b[39m) \u001b[38;2;0;128;0;01mas\u001b[39;00m f_in:\n",
      "        \u001b[38;2;0;128;0;01mreturn\u001b[39;00m pickle\u001b[38;2;102;102;102m.\u001b[39mload(f_in)\n",
      "\n",
      "\n",
      "\u001b[38;2;0;128;0;01mdef\u001b[39;00m \u001b[38;2;0;0;255mtrain_and_log_model\u001b[39m(data_path, params):\n",
      "    X_train, y_train \u001b[38;2;102;102;102m=\u001b[39m load_pickle(os\u001b[38;2;102;102;102m.\u001b[39mpath\u001b[38;2;102;102;102m.\u001b[39mjoin(data_path, \u001b[38;2;186;33;33m\"\u001b[39m\u001b[38;2;186;33;33mtrain.pkl\u001b[39m\u001b[38;2;186;33;33m\"\u001b[39m))\n",
      "    X_val, y_val \u001b[38;2;102;102;102m=\u001b[39m load_pickle(os\u001b[38;2;102;102;102m.\u001b[39mpath\u001b[38;2;102;102;102m.\u001b[39mjoin(data_path, \u001b[38;2;186;33;33m\"\u001b[39m\u001b[38;2;186;33;33mval.pkl\u001b[39m\u001b[38;2;186;33;33m\"\u001b[39m))\n",
      "    X_test, y_test \u001b[38;2;102;102;102m=\u001b[39m load_pickle(os\u001b[38;2;102;102;102m.\u001b[39mpath\u001b[38;2;102;102;102m.\u001b[39mjoin(data_path, \u001b[38;2;186;33;33m\"\u001b[39m\u001b[38;2;186;33;33mtest.pkl\u001b[39m\u001b[38;2;186;33;33m\"\u001b[39m))\n",
      "\n",
      "    \u001b[38;2;0;128;0;01mwith\u001b[39;00m mlflow\u001b[38;2;102;102;102m.\u001b[39mstart_run():\n",
      "        new_params \u001b[38;2;102;102;102m=\u001b[39m {}\n",
      "        \u001b[38;2;0;128;0;01mfor\u001b[39;00m param \u001b[38;2;170;34;255;01min\u001b[39;00m RF_PARAMS:\n",
      "            new_params[param] \u001b[38;2;102;102;102m=\u001b[39m \u001b[38;2;0;128;0mint\u001b[39m(params[param])\n",
      "\n",
      "        rf \u001b[38;2;102;102;102m=\u001b[39m RandomForestRegressor(\u001b[38;2;102;102;102m*\u001b[39m\u001b[38;2;102;102;102m*\u001b[39mnew_params)\n",
      "        rf\u001b[38;2;102;102;102m.\u001b[39mfit(X_train, y_train)\n",
      "\n",
      "        \u001b[38;2;61;123;123;03m# Evaluate model on the validation and test sets\u001b[39;00m\n",
      "        val_rmse \u001b[38;2;102;102;102m=\u001b[39m mean_squared_error(y_val, rf\u001b[38;2;102;102;102m.\u001b[39mpredict(X_val), squared\u001b[38;2;102;102;102m=\u001b[39m\u001b[38;2;0;128;0;01mFalse\u001b[39;00m)\n",
      "        mlflow\u001b[38;2;102;102;102m.\u001b[39mlog_metric(\u001b[38;2;186;33;33m\"\u001b[39m\u001b[38;2;186;33;33mval_rmse\u001b[39m\u001b[38;2;186;33;33m\"\u001b[39m, val_rmse)\n",
      "        test_rmse \u001b[38;2;102;102;102m=\u001b[39m mean_squared_error(y_test, rf\u001b[38;2;102;102;102m.\u001b[39mpredict(X_test), squared\u001b[38;2;102;102;102m=\u001b[39m\u001b[38;2;0;128;0;01mFalse\u001b[39;00m)\n",
      "        mlflow\u001b[38;2;102;102;102m.\u001b[39mlog_metric(\u001b[38;2;186;33;33m\"\u001b[39m\u001b[38;2;186;33;33mtest_rmse\u001b[39m\u001b[38;2;186;33;33m\"\u001b[39m, test_rmse)\n",
      "\n",
      "\n",
      "\u001b[38;2;170;34;255m@click\u001b[39m\u001b[38;2;102;102;102m.\u001b[39mcommand()\n",
      "\u001b[38;2;170;34;255m@click\u001b[39m\u001b[38;2;102;102;102m.\u001b[39moption(\n",
      "    \u001b[38;2;186;33;33m\"\u001b[39m\u001b[38;2;186;33;33m--data_path\u001b[39m\u001b[38;2;186;33;33m\"\u001b[39m,\n",
      "    default\u001b[38;2;102;102;102m=\u001b[39m\u001b[38;2;186;33;33m\"\u001b[39m\u001b[38;2;186;33;33m./output\u001b[39m\u001b[38;2;186;33;33m\"\u001b[39m,\n",
      "    help\u001b[38;2;102;102;102m=\u001b[39m\u001b[38;2;186;33;33m\"\u001b[39m\u001b[38;2;186;33;33mLocation where the processed NYC taxi trip data was saved\u001b[39m\u001b[38;2;186;33;33m\"\u001b[39m\n",
      ")\n",
      "\u001b[38;2;170;34;255m@click\u001b[39m\u001b[38;2;102;102;102m.\u001b[39moption(\n",
      "    \u001b[38;2;186;33;33m\"\u001b[39m\u001b[38;2;186;33;33m--top_n\u001b[39m\u001b[38;2;186;33;33m\"\u001b[39m,\n",
      "    default\u001b[38;2;102;102;102m=\u001b[39m\u001b[38;2;102;102;102m5\u001b[39m,\n",
      "    \u001b[38;2;0;128;0mtype\u001b[39m\u001b[38;2;102;102;102m=\u001b[39m\u001b[38;2;0;128;0mint\u001b[39m,\n",
      "    help\u001b[38;2;102;102;102m=\u001b[39m\u001b[38;2;186;33;33m\"\u001b[39m\u001b[38;2;186;33;33mNumber of top models that need to be evaluated to decide which one to promote\u001b[39m\u001b[38;2;186;33;33m\"\u001b[39m\n",
      ")\n",
      "\u001b[38;2;0;128;0;01mdef\u001b[39;00m \u001b[38;2;0;0;255mrun_register_model\u001b[39m(data_path: \u001b[38;2;0;128;0mstr\u001b[39m, top_n: \u001b[38;2;0;128;0mint\u001b[39m):\n",
      "\n",
      "    client \u001b[38;2;102;102;102m=\u001b[39m MlflowClient()\n",
      "\n",
      "    \u001b[38;2;61;123;123;03m# Retrieve the top_n model runs and log the models\u001b[39;00m\n",
      "    experiment \u001b[38;2;102;102;102m=\u001b[39m client\u001b[38;2;102;102;102m.\u001b[39mget_experiment_by_name(HPO_EXPERIMENT_NAME)\n",
      "    runs \u001b[38;2;102;102;102m=\u001b[39m client\u001b[38;2;102;102;102m.\u001b[39msearch_runs(\n",
      "        experiment_ids\u001b[38;2;102;102;102m=\u001b[39mexperiment\u001b[38;2;102;102;102m.\u001b[39mexperiment_id,\n",
      "        run_view_type\u001b[38;2;102;102;102m=\u001b[39mViewType\u001b[38;2;102;102;102m.\u001b[39mACTIVE_ONLY,\n",
      "        max_results\u001b[38;2;102;102;102m=\u001b[39mtop_n,\n",
      "        order_by\u001b[38;2;102;102;102m=\u001b[39m[\u001b[38;2;186;33;33m\"\u001b[39m\u001b[38;2;186;33;33mmetrics.rmse ASC\u001b[39m\u001b[38;2;186;33;33m\"\u001b[39m]\n",
      "    )\n",
      "    \u001b[38;2;0;128;0;01mfor\u001b[39;00m run \u001b[38;2;170;34;255;01min\u001b[39;00m runs:\n",
      "        train_and_log_model(data_path\u001b[38;2;102;102;102m=\u001b[39mdata_path, params\u001b[38;2;102;102;102m=\u001b[39mrun\u001b[38;2;102;102;102m.\u001b[39mdata\u001b[38;2;102;102;102m.\u001b[39mparams)\n",
      "\n",
      "    \u001b[38;2;61;123;123;03m# Select the model with the lowest test RMSE\u001b[39;00m\n",
      "    experiment \u001b[38;2;102;102;102m=\u001b[39m client\u001b[38;2;102;102;102m.\u001b[39mget_experiment_by_name(EXPERIMENT_NAME)\n",
      "    best_run \u001b[38;2;102;102;102m=\u001b[39m client\u001b[38;2;102;102;102m.\u001b[39msearch_runs(\n",
      "        experiment_ids\u001b[38;2;102;102;102m=\u001b[39m\u001b[38;2;102;102;102m3\u001b[39m,\n",
      "        run_view_type\u001b[38;2;102;102;102m=\u001b[39mViewType\u001b[38;2;102;102;102m.\u001b[39mACTIVE_ONLY,\n",
      "        max_results\u001b[38;2;102;102;102m=\u001b[39m\u001b[38;2;102;102;102m1\u001b[39m,\n",
      "        order_by\u001b[38;2;102;102;102m=\u001b[39m[\u001b[38;2;186;33;33m\"\u001b[39m\u001b[38;2;186;33;33mmetrics.test_rmse ASC\u001b[39m\u001b[38;2;186;33;33m\"\u001b[39m]\n",
      "    )[\u001b[38;2;102;102;102m0\u001b[39m]\n",
      "\n",
      "    \u001b[38;2;61;123;123;03m# Register the best model\u001b[39;00m\n",
      "    mlflow\u001b[38;2;102;102;102m.\u001b[39mregister_model(\u001b[38;2;186;33;33mf\u001b[39m\u001b[38;2;186;33;33m\"\u001b[39m\u001b[38;2;186;33;33mruns:/\u001b[39m\u001b[38;2;164;90;119;01m{\u001b[39;00mbest_run\u001b[38;2;102;102;102m.\u001b[39minfo\u001b[38;2;102;102;102m.\u001b[39mrun_id\u001b[38;2;164;90;119;01m}\u001b[39;00m\u001b[38;2;186;33;33m/model\u001b[39m\u001b[38;2;186;33;33m\"\u001b[39m, name\u001b[38;2;102;102;102m=\u001b[39m\u001b[38;2;186;33;33m\"\u001b[39m\u001b[38;2;186;33;33mnyc-taxi-regressor\u001b[39m\u001b[38;2;186;33;33m\"\u001b[39m)\n",
      "\n",
      "\n",
      "\u001b[38;2;0;128;0;01mif\u001b[39;00m \u001b[38;2;25;23;124m__name__\u001b[39m \u001b[38;2;102;102;102m==\u001b[39m \u001b[38;2;186;33;33m'\u001b[39m\u001b[38;2;186;33;33m__main__\u001b[39m\u001b[38;2;186;33;33m'\u001b[39m:\n",
      "    run_register_model()\n"
     ]
    }
   ],
   "source": [
    "!pygmentize ./scripts/register_model.py"
   ]
  },
  {
   "cell_type": "code",
   "execution_count": 14,
   "metadata": {},
   "outputs": [
    {
     "name": "stdout",
     "output_type": "stream",
     "text": [
      "2024/10/27 14:41:32 INFO mlflow.tracking.fluent: Experiment with name 'random-forest-best-models' does not exist. Creating a new experiment.\n",
      "2024/10/27 14:41:33 WARNING mlflow.sklearn: Failed to log training dataset information to MLflow Tracking. Reason: 'numpy.ndarray' object has no attribute 'toarray'\n",
      "/workspaces/mlops-zoomcamp-hws/02-experiment tracking/venv/lib/python3.9/site-packages/sklearn/metrics/_regression.py:492: FutureWarning: 'squared' is deprecated in version 1.4 and will be removed in 1.6. To calculate the root mean squared error, use the function'root_mean_squared_error'.\n",
      "  warnings.warn(\n",
      "/workspaces/mlops-zoomcamp-hws/02-experiment tracking/venv/lib/python3.9/site-packages/sklearn/metrics/_regression.py:492: FutureWarning: 'squared' is deprecated in version 1.4 and will be removed in 1.6. To calculate the root mean squared error, use the function'root_mean_squared_error'.\n",
      "  warnings.warn(\n",
      "2024/10/27 14:41:43 INFO mlflow.tracking._tracking_service.client: 🏃 View run calm-loon-579 at: http://127.0.0.1:5001/#/experiments/3/runs/32cdf2c5c037447fbdc5d9577b17a5b7.\n",
      "2024/10/27 14:41:43 INFO mlflow.tracking._tracking_service.client: 🧪 View experiment at: http://127.0.0.1:5001/#/experiments/3.\n",
      "2024/10/27 14:41:43 WARNING mlflow.sklearn: Failed to log training dataset information to MLflow Tracking. Reason: 'numpy.ndarray' object has no attribute 'toarray'\n",
      "/workspaces/mlops-zoomcamp-hws/02-experiment tracking/venv/lib/python3.9/site-packages/sklearn/metrics/_regression.py:492: FutureWarning: 'squared' is deprecated in version 1.4 and will be removed in 1.6. To calculate the root mean squared error, use the function'root_mean_squared_error'.\n",
      "  warnings.warn(\n",
      "/workspaces/mlops-zoomcamp-hws/02-experiment tracking/venv/lib/python3.9/site-packages/sklearn/metrics/_regression.py:492: FutureWarning: 'squared' is deprecated in version 1.4 and will be removed in 1.6. To calculate the root mean squared error, use the function'root_mean_squared_error'.\n",
      "  warnings.warn(\n",
      "2024/10/27 14:41:55 INFO mlflow.tracking._tracking_service.client: 🏃 View run wistful-shrew-509 at: http://127.0.0.1:5001/#/experiments/3/runs/5a3635361a8948809c97c2eda65c9e7e.\n",
      "2024/10/27 14:41:55 INFO mlflow.tracking._tracking_service.client: 🧪 View experiment at: http://127.0.0.1:5001/#/experiments/3.\n",
      "2024/10/27 14:41:55 WARNING mlflow.sklearn: Failed to log training dataset information to MLflow Tracking. Reason: 'numpy.ndarray' object has no attribute 'toarray'\n",
      "/workspaces/mlops-zoomcamp-hws/02-experiment tracking/venv/lib/python3.9/site-packages/sklearn/metrics/_regression.py:492: FutureWarning: 'squared' is deprecated in version 1.4 and will be removed in 1.6. To calculate the root mean squared error, use the function'root_mean_squared_error'.\n",
      "  warnings.warn(\n",
      "/workspaces/mlops-zoomcamp-hws/02-experiment tracking/venv/lib/python3.9/site-packages/sklearn/metrics/_regression.py:492: FutureWarning: 'squared' is deprecated in version 1.4 and will be removed in 1.6. To calculate the root mean squared error, use the function'root_mean_squared_error'.\n",
      "  warnings.warn(\n",
      "2024/10/27 14:42:03 INFO mlflow.tracking._tracking_service.client: 🏃 View run bright-chimp-45 at: http://127.0.0.1:5001/#/experiments/3/runs/a0e87c41546f4fc1b8bb96ebc9cef8eb.\n",
      "2024/10/27 14:42:03 INFO mlflow.tracking._tracking_service.client: 🧪 View experiment at: http://127.0.0.1:5001/#/experiments/3.\n",
      "2024/10/27 14:42:03 WARNING mlflow.sklearn: Failed to log training dataset information to MLflow Tracking. Reason: 'numpy.ndarray' object has no attribute 'toarray'\n",
      "/workspaces/mlops-zoomcamp-hws/02-experiment tracking/venv/lib/python3.9/site-packages/sklearn/metrics/_regression.py:492: FutureWarning: 'squared' is deprecated in version 1.4 and will be removed in 1.6. To calculate the root mean squared error, use the function'root_mean_squared_error'.\n",
      "  warnings.warn(\n",
      "/workspaces/mlops-zoomcamp-hws/02-experiment tracking/venv/lib/python3.9/site-packages/sklearn/metrics/_regression.py:492: FutureWarning: 'squared' is deprecated in version 1.4 and will be removed in 1.6. To calculate the root mean squared error, use the function'root_mean_squared_error'.\n",
      "  warnings.warn(\n",
      "2024/10/27 14:42:12 INFO mlflow.tracking._tracking_service.client: 🏃 View run secretive-shark-999 at: http://127.0.0.1:5001/#/experiments/3/runs/41ba398d604444d1805a1216ef982eef.\n",
      "2024/10/27 14:42:12 INFO mlflow.tracking._tracking_service.client: 🧪 View experiment at: http://127.0.0.1:5001/#/experiments/3.\n",
      "2024/10/27 14:42:12 WARNING mlflow.sklearn: Failed to log training dataset information to MLflow Tracking. Reason: 'numpy.ndarray' object has no attribute 'toarray'\n",
      "/workspaces/mlops-zoomcamp-hws/02-experiment tracking/venv/lib/python3.9/site-packages/sklearn/metrics/_regression.py:492: FutureWarning: 'squared' is deprecated in version 1.4 and will be removed in 1.6. To calculate the root mean squared error, use the function'root_mean_squared_error'.\n",
      "  warnings.warn(\n",
      "/workspaces/mlops-zoomcamp-hws/02-experiment tracking/venv/lib/python3.9/site-packages/sklearn/metrics/_regression.py:492: FutureWarning: 'squared' is deprecated in version 1.4 and will be removed in 1.6. To calculate the root mean squared error, use the function'root_mean_squared_error'.\n",
      "  warnings.warn(\n",
      "2024/10/27 14:42:19 INFO mlflow.tracking._tracking_service.client: 🏃 View run wise-goat-293 at: http://127.0.0.1:5001/#/experiments/3/runs/068e926524bc4bd591985759e2b23fd1.\n",
      "2024/10/27 14:42:19 INFO mlflow.tracking._tracking_service.client: 🧪 View experiment at: http://127.0.0.1:5001/#/experiments/3.\n",
      "Successfully registered model 'nyc-taxi-regressor'.\n",
      "2024/10/27 14:42:19 INFO mlflow.store.model_registry.abstract_store: Waiting up to 300 seconds for model version to finish creation. Model name: nyc-taxi-regressor, version 1\n",
      "Created version '1' of model 'nyc-taxi-regressor'.\n"
     ]
    }
   ],
   "source": [
    "!python ./scripts/register_model.py"
   ]
  }
 ],
 "metadata": {
  "kernelspec": {
   "display_name": "Python 3 (ipykernel)",
   "language": "python",
   "name": "python3"
  },
  "language_info": {
   "codemirror_mode": {
    "name": "ipython",
    "version": 3
   },
   "file_extension": ".py",
   "mimetype": "text/x-python",
   "name": "python",
   "nbconvert_exporter": "python",
   "pygments_lexer": "ipython3",
   "version": "3.9.12"
  }
 },
 "nbformat": 4,
 "nbformat_minor": 2
}
